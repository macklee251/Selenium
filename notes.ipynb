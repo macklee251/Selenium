{
 "cells": [
  {
   "cell_type": "code",
   "execution_count": 1,
   "metadata": {},
   "outputs": [
    {
     "ename": "ModuleNotFoundError",
     "evalue": "No module named 'selenium'",
     "output_type": "error",
     "traceback": [
      "\u001b[0;31m---------------------------------------------------------------------------\u001b[0m",
      "\u001b[0;31mModuleNotFoundError\u001b[0m                       Traceback (most recent call last)",
      "Cell \u001b[0;32mIn[1], line 1\u001b[0m\n\u001b[0;32m----> 1\u001b[0m \u001b[38;5;28;01mfrom\u001b[39;00m \u001b[38;5;21;01mselenium\u001b[39;00m \u001b[38;5;28;01mimport\u001b[39;00m webdriver\n\u001b[1;32m      2\u001b[0m \u001b[38;5;28;01mfrom\u001b[39;00m \u001b[38;5;21;01mselenium\u001b[39;00m\u001b[38;5;21;01m.\u001b[39;00m\u001b[38;5;21;01mwebdriver\u001b[39;00m\u001b[38;5;21;01m.\u001b[39;00m\u001b[38;5;21;01mchrome\u001b[39;00m\u001b[38;5;21;01m.\u001b[39;00m\u001b[38;5;21;01mservice\u001b[39;00m \u001b[38;5;28;01mimport\u001b[39;00m Service \u001b[38;5;28;01mas\u001b[39;00m ChromeService\n\u001b[1;32m      3\u001b[0m \u001b[38;5;28;01mfrom\u001b[39;00m \u001b[38;5;21;01mwebdriver_manager\u001b[39;00m\u001b[38;5;21;01m.\u001b[39;00m\u001b[38;5;21;01mchrome\u001b[39;00m \u001b[38;5;28;01mimport\u001b[39;00m ChromeDriverManager\n",
      "\u001b[0;31mModuleNotFoundError\u001b[0m: No module named 'selenium'"
     ]
    }
   ],
   "source": [
    "from selenium import webdriver\n",
    "from selenium.webdriver.chrome.service import Service as ChromeService\n",
    "from webdriver_manager.chrome import ChromeDriverManager\n",
    "from selenium.webdriver.chrome.options import Options\n",
    "from pathlib import Path\n",
    "import time\n",
    "\n",
    "def booting_driver():\n",
    "    # Setando as configurações\n",
    "    chrome_options = Options()\n",
    "    arguments = ['--lang=pt-BR', '--window-size=500,500', '--incognito'] # '--headless' para rodar em background\n",
    "    for argument in arguments:\n",
    "        chrome_options.add_argument(argument)\n",
    "\n",
    "    # Setando as configurações experimentais\n",
    "    chrome_options.add_experimental_option('prefs', {\n",
    "        # Alterar o local padrão de download de arquivos\n",
    "        'download.default_directory': str(Path().home() / \"Downloads\"),\n",
    "        # notificar o google chrome sobre essa alteração\n",
    "        'download.directory_upgrade': True,\n",
    "        # Desabilitar a confirmação de download\n",
    "        'download.prompt_for_download': False,\n",
    "        # Desabilitar notificações\n",
    "        'profile.default_content_setting_values.notifications': 2,\n",
    "        # Permitir multiplos downloads\n",
    "        'profile.default_content_setting_values.automatic_downloads': 1,\n",
    "    })\n",
    "\n",
    "    # Inicializando o webdriver \n",
    "    global driver\n",
    "    driver = webdriver.Chrome(service=ChromeService(ChromeDriverManager().install()), options=chrome_options)\n",
    "\n",
    "def accessing_website(site):\n",
    "    driver.get(site)\n",
    "\n",
    "def finishing_connection():\n",
    "    driver.quit()\n",
    "    \n",
    "    \n",
    "booting_driver()\n",
    "accessing_website('https://cursoautomacao.netlify.app/')\n",
    "# time.sleep(5)\n",
    "# finishing_connection()"
   ]
  },
  {
   "cell_type": "code",
   "execution_count": null,
   "metadata": {},
   "outputs": [],
   "source": []
  }
 ],
 "metadata": {
  "kernelspec": {
   "display_name": "base",
   "language": "python",
   "name": "python3"
  },
  "language_info": {
   "codemirror_mode": {
    "name": "ipython",
    "version": 3
   },
   "file_extension": ".py",
   "mimetype": "text/x-python",
   "name": "python",
   "nbconvert_exporter": "python",
   "pygments_lexer": "ipython3",
   "version": "3.11.7"
  }
 },
 "nbformat": 4,
 "nbformat_minor": 2
}
